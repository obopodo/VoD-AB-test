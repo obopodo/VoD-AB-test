{
 "cells": [
  {
   "cell_type": "markdown",
   "metadata": {},
   "source": [
    "# <center>Задание 3</center>"
   ]
  },
  {
   "cell_type": "markdown",
   "metadata": {},
   "source": [
    "**Задание:**  \n",
    "Есть А/Б тест направленный на конверсию в покупку (подписки и/или платных фильмов). % что либо купивших в обоих группах одинаковый. Средний чек разный. Каким способом можно проверить, что разница не случайна (с использованием sql и/или python)."
   ]
  },
  {
   "cell_type": "markdown",
   "metadata": {},
   "source": [
    "**Пояснение к решению:**  \n",
    "Сформулируем статистическую гипотезу $H_0$: средние чеки в группах *А* и *Б* равны.  \n",
    "Для этого можно воспользоваться одним из соответствующих статистических критериев.  \n",
    "  \n",
    "Самым популярным и достаточно мощным критерием является **t-критерий Стьюдента**, однако он применим только в случае, если выборки следуют нормальным распределениям. Строго говоря, имеющиеся выборки не могут быть распределены нормально, так как являются данными о стоимостях покупок и потому определены на интервале $[0; +\\infty)$, в то время как нормальное распределение определено на $(-\\infty; +\\infty)$.  \n",
    "Однако, аппроксимация нормальным распределением всё равно может оказаться не столь плохой, так что стоит проверить **гипотезы о нормальности выборок**, для чего можно воспользоваться, например, **критерием Шапиро**. В случае, если гипотезы о нормальности не будут отклонены, можно применить t-критерий (для случая различных дисперсий).  \n",
    "Далее Следует проверить **гипотезу о равенстве дисперсий**, используя **критерий Фишера**. Если и эта гипотеза не будет отклонена, можно применить t-критерий для случая равных дисперсий или тест ANOVA.  \n",
    "  \n",
    "Если же окажется, что выборки нельзя считать нормальными, можно применить критерий Манна-Уитни, однако этот критерий является ранговым, а значит плохо работает, если в выборке много одинаковых значений, что, скорее всего, и будет наблюдаться для покупок фильмов/подписок, так как их стоимости обычно фиксированы. Следовательно, перед применением этого критерия стоит посмотреть на распределение уникальных значений чеков в выборках.  \n",
    "  \n",
    "Перед использованием вышеперечисленных критериев данные стоит очистить от выбросов. Выбросами будем считать наблюдения, лежащие за пределами усов боксплота.  \n",
    "  \n",
    "В дополнение можно построить P-P plot выборочных функций распределения. В случае, если график будет лежать в большей степени по одну сторону от прямой, проходящей через точки $(0;0)$ и $(1;1)$, можно судить о том, что средние различны."
   ]
  },
  {
   "cell_type": "markdown",
   "metadata": {},
   "source": [
    "Предположим, что данные о покупках лежат в нашей базе данных в таблице `AB_test`, которая имеет следующие поля:\n",
    "* `payment_id` — id покупки (integer)\n",
    "* `payment` — величина покупки в рублях (float)\n",
    "* `user_id` — идентификаторы пользователей (integer)\n",
    "* `test_group` — значение группы ('A' или 'B')"
   ]
  },
  {
   "cell_type": "markdown",
   "metadata": {},
   "source": [
    "# Импорт нужных библиотек"
   ]
  },
  {
   "cell_type": "code",
   "execution_count": 1,
   "metadata": {},
   "outputs": [],
   "source": [
    "from sqlalchemy import create_engine\n",
    "import getpass\n",
    "\n",
    "from scipy import stats\n",
    "import pandas as pd\n",
    "import numpy as np\n",
    "import matplotlib.pyplot as plt"
   ]
  },
  {
   "cell_type": "markdown",
   "metadata": {},
   "source": [
    "# Вытащим из базы данные в pandas Data Frame"
   ]
  },
  {
   "cell_type": "markdown",
   "metadata": {},
   "source": [
    "Функция для создания подключения"
   ]
  },
  {
   "cell_type": "code",
   "execution_count": 2,
   "metadata": {},
   "outputs": [],
   "source": [
    "db_name = 'test_db'\n",
    "\n",
    "def my_engine(db_name):\n",
    "    print('Please, enter your username:', end=' ')\n",
    "    username = input()\n",
    "    password = getpass.getpass('Please, enter your password: ')\n",
    "    host = 'localhost'\n",
    "    port = 3306\n",
    "#     db_name = db_name\n",
    "    engine = create_engine(f'mysql+pymysql://{username}:{password}@{host}:{port}/{db_name}')\n",
    "    return engine"
   ]
  },
  {
   "cell_type": "code",
   "execution_count": 3,
   "metadata": {},
   "outputs": [
    {
     "name": "stdout",
     "output_type": "stream",
     "text": [
      "Please, enter your username: root\n",
      "Please, enter your password: ········\n"
     ]
    }
   ],
   "source": [
    "eng = my_engine(db_name)"
   ]
  },
  {
   "cell_type": "code",
   "execution_count": 4,
   "metadata": {},
   "outputs": [],
   "source": [
    "query = f'''\n",
    "\n",
    "SELECT * FROM {db_name}.AB_test AS c\n",
    "WHERE c.payment > 0\n",
    "'''"
   ]
  },
  {
   "cell_type": "code",
   "execution_count": 5,
   "metadata": {},
   "outputs": [],
   "source": [
    "def load_n_split(engine, query):\n",
    "    data = pd.read_sql_query(query, eng)\n",
    "    data_df = pd.DataFrame(data, columns=['payment_id', \n",
    "                                          'payment', \n",
    "                                          'user_id', \n",
    "                                          'test_group'])\n",
    "\n",
    "    A = data_df.payment[data_df.test_group == 'A'].values\n",
    "    B = data_df.payment[data_df.test_group == 'B'].values\n",
    "    \n",
    "    return A, B, data_df"
   ]
  },
  {
   "cell_type": "code",
   "execution_count": null,
   "metadata": {},
   "outputs": [],
   "source": [
    "A, B, data = load_n_split(eng, query)"
   ]
  },
  {
   "cell_type": "markdown",
   "metadata": {},
   "source": [
    "___"
   ]
  },
  {
   "cell_type": "markdown",
   "metadata": {},
   "source": [
    "Так как реальных данных нет, для демонстрации сэмплируем набор данных из бета-распределений с нормальным шумом. В первом случае возьмём симметричное бета распределение (с параметрами 2, 2), во втором с положительной асимметрией (с параметрами 2, 3), что должно немного сместить среднее в меньшую сторону."
   ]
  },
  {
   "cell_type": "code",
   "execution_count": 7,
   "metadata": {},
   "outputs": [],
   "source": [
    "A = np.random.beta(2, 2, 50) * 800 + np.random.normal(0, 10, 50)\n",
    "B = np.random.beta(2, 3, 55) * 800 + np.random.normal(0, 10, 55)"
   ]
  },
  {
   "cell_type": "markdown",
   "metadata": {},
   "source": [
    "# Посмотрим на некоторые статистики"
   ]
  },
  {
   "cell_type": "code",
   "execution_count": 8,
   "metadata": {},
   "outputs": [
    {
     "data": {
      "text/plain": [
       "(50, 55)"
      ]
     },
     "execution_count": 8,
     "metadata": {},
     "output_type": "execute_result"
    }
   ],
   "source": [
    "A.size, B.size"
   ]
  },
  {
   "cell_type": "code",
   "execution_count": 36,
   "metadata": {},
   "outputs": [],
   "source": [
    "d = 2"
   ]
  },
  {
   "cell_type": "code",
   "execution_count": 35,
   "metadata": {},
   "outputs": [
    {
     "data": {
      "text/plain": [
       "(395.03, 323.67)"
      ]
     },
     "execution_count": 35,
     "metadata": {},
     "output_type": "execute_result"
    }
   ],
   "source": [
    "np.mean(A).round(d), np.mean(B).round(d)"
   ]
  },
  {
   "cell_type": "code",
   "execution_count": 37,
   "metadata": {},
   "outputs": [
    {
     "name": "stdout",
     "output_type": "stream",
     "text": [
      "49.1 780.59\n",
      "48.4 679.86\n"
     ]
    }
   ],
   "source": [
    "print(np.min(A).round(d), np.max(A).round(d))\n",
    "print(np.min(B).round(d), np.max(B).round(d))"
   ]
  },
  {
   "cell_type": "markdown",
   "metadata": {},
   "source": [
    "## Выбросим выбросы"
   ]
  },
  {
   "cell_type": "markdown",
   "metadata": {},
   "source": [
    "Будем считать выбросами всё, что не попадает в интервал $[Q_1 - 1.5\\cdot IQR; Q_3 + 1.5\\cdot IQR]$, где $Q_1$ и $Q_3$ - верхний и нижний квартили, $IQR = Q_3 - Q_1$"
   ]
  },
  {
   "cell_type": "code",
   "execution_count": 11,
   "metadata": {},
   "outputs": [],
   "source": [
    "def truncate_outliers(x):\n",
    "    Q1 = np.quantile(x, 0.25)\n",
    "    Q3 = np.quantile(x, 0.75)\n",
    "    IQR = Q3 - Q1\n",
    "    result = x[(x <= Q3 + 1.5*IQR) & (x >= Q1 - 1.5*IQR)]\n",
    "    return result"
   ]
  },
  {
   "cell_type": "code",
   "execution_count": 12,
   "metadata": {},
   "outputs": [],
   "source": [
    "A = truncate_outliers(A)\n",
    "B = truncate_outliers(B)"
   ]
  },
  {
   "cell_type": "code",
   "execution_count": 13,
   "metadata": {},
   "outputs": [
    {
     "data": {
      "text/plain": [
       "(50, 55)"
      ]
     },
     "execution_count": 13,
     "metadata": {},
     "output_type": "execute_result"
    }
   ],
   "source": [
    "A.size, B.size"
   ]
  },
  {
   "cell_type": "code",
   "execution_count": 14,
   "metadata": {},
   "outputs": [],
   "source": [
    "def plot_hist(data, name):\n",
    "    plt.hist(data, bins = 10, density=True)\n",
    "    plt.title(f'Histogram of {name}')\n",
    "    plt.xlabel('Payment')\n",
    "    plt.show"
   ]
  },
  {
   "cell_type": "code",
   "execution_count": 15,
   "metadata": {},
   "outputs": [
    {
     "data": {
      "image/png": "[encoded data removed]",
      "text/plain": [
       "<Figure size 432x288 with 1 Axes>"
      ]
     },
     "metadata": {
      "needs_background": "light"
     },
     "output_type": "display_data"
    }
   ],
   "source": [
    "plot_hist(A, 'A')"
   ]
  },
  {
   "cell_type": "code",
   "execution_count": 16,
   "metadata": {},
   "outputs": [
    {
     "data": {
      "image/png": "[encoded data removed]",
      "text/plain": [
       "<Figure size 432x288 with 1 Axes>"
      ]
     },
     "metadata": {
      "needs_background": "light"
     },
     "output_type": "display_data"
    }
   ],
   "source": [
    "plot_hist(B, 'B')"
   ]
  },
  {
   "cell_type": "markdown",
   "metadata": {},
   "source": [
    "Визуально далеки от нормальных, хотя данных маловато, чтобы судить. Посмотрим, что скажет тест Шапиро"
   ]
  },
  {
   "cell_type": "markdown",
   "metadata": {},
   "source": [
    "# Тест на нормальность"
   ]
  },
  {
   "cell_type": "code",
   "execution_count": 17,
   "metadata": {},
   "outputs": [
    {
     "data": {
      "text/plain": [
       "ShapiroResult(statistic=0.986885666847229, pvalue=0.848646879196167)"
      ]
     },
     "execution_count": 17,
     "metadata": {},
     "output_type": "execute_result"
    }
   ],
   "source": [
    "stats.shapiro(A)"
   ]
  },
  {
   "cell_type": "code",
   "execution_count": 18,
   "metadata": {},
   "outputs": [
    {
     "data": {
      "text/plain": [
       "ShapiroResult(statistic=0.9769120216369629, pvalue=0.36758825182914734)"
      ]
     },
     "execution_count": 18,
     "metadata": {},
     "output_type": "execute_result"
    }
   ],
   "source": [
    "stats.shapiro(B)"
   ]
  },
  {
   "cell_type": "markdown",
   "metadata": {},
   "source": [
    "В обоих случаях статистика незначительно меньше 1 (на уровне значимости 0,05), следовательно отвергнуть гипотезу о том, что данные имеют нормальное распределение, мы не можем."
   ]
  },
  {
   "cell_type": "markdown",
   "metadata": {},
   "source": [
    "# Тест Фишера о равенстве дисперсий:"
   ]
  },
  {
   "cell_type": "code",
   "execution_count": 38,
   "metadata": {},
   "outputs": [],
   "source": [
    "def F_test(x, y):\n",
    "    F = np.var(x, ddof=1) / np.var(y, ddof=1) # отношение несмещённых оценок дисперсий\n",
    "    m = x.size - 1 # степени свободы x\n",
    "    n = y.size - 1 # степени свободы y\n",
    "    pval = 1 - stats.f.cdf(F, m, n)\n",
    "    return F.round(5), pval.round(5)"
   ]
  },
  {
   "cell_type": "code",
   "execution_count": 39,
   "metadata": {},
   "outputs": [
    {
     "data": {
      "text/plain": [
       "(1.45618, 0.0893)"
      ]
     },
     "execution_count": 39,
     "metadata": {},
     "output_type": "execute_result"
    }
   ],
   "source": [
    "F_test(A, B)"
   ]
  },
  {
   "cell_type": "markdown",
   "metadata": {},
   "source": [
    "Как видим, дисперсия в группе А несколько выше по сравнению с В, но это отличие не является значимым на уровне 0,05. Так что можем провести t-тест для случая равных дисперсий и произвести ANOVA"
   ]
  },
  {
   "cell_type": "markdown",
   "metadata": {},
   "source": [
    "# t-тест"
   ]
  },
  {
   "cell_type": "code",
   "execution_count": 21,
   "metadata": {
    "scrolled": true
   },
   "outputs": [
    {
     "data": {
      "text/plain": [
       "Ttest_indResult(statistic=2.293808050534564, pvalue=0.023831840214110323)"
      ]
     },
     "execution_count": 21,
     "metadata": {},
     "output_type": "execute_result"
    }
   ],
   "source": [
    "stats.ttest_ind(A, B, equal_var=True)"
   ]
  },
  {
   "cell_type": "markdown",
   "metadata": {},
   "source": [
    "На всякий случай посчитаем и для неравных дисперсий:"
   ]
  },
  {
   "cell_type": "code",
   "execution_count": 22,
   "metadata": {},
   "outputs": [
    {
     "data": {
      "text/plain": [
       "Ttest_indResult(statistic=2.2734131616473565, pvalue=0.025241537556572043)"
      ]
     },
     "execution_count": 22,
     "metadata": {},
     "output_type": "execute_result"
    }
   ],
   "source": [
    "stats.ttest_ind(A, B, equal_var=False)"
   ]
  },
  {
   "cell_type": "markdown",
   "metadata": {},
   "source": [
    "В обоих случаях значение статистики значимо отличается от 0, значит и средние между выборками различны"
   ]
  },
  {
   "cell_type": "markdown",
   "metadata": {},
   "source": [
    "# ANOVA"
   ]
  },
  {
   "cell_type": "code",
   "execution_count": 23,
   "metadata": {},
   "outputs": [
    {
     "data": {
      "text/plain": [
       "F_onewayResult(statistic=5.261555372697176, pvalue=0.023831840214110434)"
      ]
     },
     "execution_count": 23,
     "metadata": {},
     "output_type": "execute_result"
    }
   ],
   "source": [
    "stats.f_oneway(A, B)"
   ]
  },
  {
   "cell_type": "markdown",
   "metadata": {},
   "source": [
    "Значимо отличается от 1, значит и средние между выборками различны"
   ]
  },
  {
   "cell_type": "markdown",
   "metadata": {},
   "source": [
    "# Критерий Манна-Уитни"
   ]
  },
  {
   "cell_type": "markdown",
   "metadata": {},
   "source": [
    "Манна-Уитни тоже посчитаем:"
   ]
  },
  {
   "cell_type": "code",
   "execution_count": 24,
   "metadata": {},
   "outputs": [
    {
     "data": {
      "text/plain": [
       "MannwhitneyuResult(statistic=1046.0, pvalue=0.017528910134479974)"
      ]
     },
     "execution_count": 24,
     "metadata": {},
     "output_type": "execute_result"
    }
   ],
   "source": [
    "stats.mannwhitneyu(A, B)"
   ]
  },
  {
   "cell_type": "markdown",
   "metadata": {},
   "source": [
    "В реальности значение статистики может быть не таким \"хорошим\", и в данном случае может быть обусловлено высокой степенью уникальности значений в выборках"
   ]
  },
  {
   "cell_type": "markdown",
   "metadata": {},
   "source": [
    "# P-P plot"
   ]
  },
  {
   "cell_type": "markdown",
   "metadata": {},
   "source": [
    "Нужны выборочные функции распределения, получим их с помощью matplotlib  \n",
    "Фиксируем положения столбцов в диапазоне 40-800, чтобы функции распределения оказались опеределены на одинаковых промежутках"
   ]
  },
  {
   "cell_type": "code",
   "execution_count": 28,
   "metadata": {},
   "outputs": [],
   "source": [
    "def get_Ps(x):\n",
    "    x_p, x_q, _ = plt.hist(x, cumulative=True, bins=20, density=True, range=(40, 800))\n",
    "    return x_p"
   ]
  },
  {
   "cell_type": "code",
   "execution_count": 29,
   "metadata": {},
   "outputs": [
    {
     "data": {
      "image/png": "[encoded data removed]",
      "text/plain": [
       "<Figure size 432x288 with 1 Axes>"
      ]
     },
     "metadata": {
      "needs_background": "light"
     },
     "output_type": "display_data"
    }
   ],
   "source": [
    "Ap = get_Ps(A)"
   ]
  },
  {
   "cell_type": "code",
   "execution_count": 30,
   "metadata": {},
   "outputs": [
    {
     "data": {
      "image/png": "[encoded data removed]",
      "text/plain": [
       "<Figure size 432x288 with 1 Axes>"
      ]
     },
     "metadata": {
      "needs_background": "light"
     },
     "output_type": "display_data"
    }
   ],
   "source": [
    "Bp = get_Ps(B)"
   ]
  },
  {
   "cell_type": "code",
   "execution_count": 32,
   "metadata": {},
   "outputs": [
    {
     "data": {
      "image/png": "[encoded data removed]",
      "text/plain": [
       "<Figure size 432x288 with 1 Axes>"
      ]
     },
     "metadata": {
      "needs_background": "light"
     },
     "output_type": "display_data"
    }
   ],
   "source": [
    "plt.plot(Ap, Bp)\n",
    "plt.plot([0,1], [0,1])\n",
    "plt.xlabel('A')\n",
    "plt.ylabel('B')\n",
    "plt.title('P-P plot of payments')\n",
    "plt.show()"
   ]
  },
  {
   "cell_type": "markdown",
   "metadata": {},
   "source": [
    "P-P plot в целом лежит выше диагонали, а значит в группе B основном чеки на меньшие суммы, чем в группе А"
   ]
  }
 ],
 "metadata": {
  "kernelspec": {
   "display_name": "Python 3",
   "language": "python",
   "name": "python3"
  },
  "language_info": {
   "codemirror_mode": {
    "name": "ipython",
    "version": 3
   },
   "file_extension": ".py",
   "mimetype": "text/x-python",
   "name": "python",
   "nbconvert_exporter": "python",
   "pygments_lexer": "ipython3",
   "version": "3.8.5"
  },
  "toc": {
   "base_numbering": 1,
   "nav_menu": {},
   "number_sections": true,
   "sideBar": true,
   "skip_h1_title": false,
   "title_cell": "Table of Contents",
   "title_sidebar": "Contents",
   "toc_cell": false,
   "toc_position": {},
   "toc_section_display": true,
   "toc_window_display": true
  }
 },
 "nbformat": 4,
 "nbformat_minor": 4
}
